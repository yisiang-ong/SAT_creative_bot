{
 "cells": [
  {
   "cell_type": "code",
   "execution_count": 5,
   "metadata": {},
   "outputs": [
    {
     "name": "stdout",
     "output_type": "stream",
     "text": [
      "Essentially the child's role is to be energetic when required. You can allow your child to cultivate an appreciation of beauty through sight and hearing. For example, try enjoying different cuisine, being with nature, or even appreciating aesthetic creations like buildings and paintings.\n"
     ]
    }
   ],
   "source": [
    "import pandas as pd\n",
    "dichotomy_datasets = pd.read_csv('dichotomy_exercise.csv', encoding='UTF-8')\n",
    "data = dichotomy_datasets\n",
    "column = \"1: cultivate an appreciation of beauty\"\n",
    "print(data[column][0])"
   ]
  }
 ],
 "metadata": {
  "kernelspec": {
   "display_name": "Python 3.9.6 64-bit",
   "language": "python",
   "name": "python3"
  },
  "language_info": {
   "codemirror_mode": {
    "name": "ipython",
    "version": 3
   },
   "file_extension": ".py",
   "mimetype": "text/x-python",
   "name": "python",
   "nbconvert_exporter": "python",
   "pygments_lexer": "ipython3",
   "version": "3.9.6"
  },
  "orig_nbformat": 4,
  "vscode": {
   "interpreter": {
    "hash": "54bb103c3e8827112ac287ff09b16e5ca2d85540a3af0b288083619c88e41aa7"
   }
  }
 },
 "nbformat": 4,
 "nbformat_minor": 2
}
